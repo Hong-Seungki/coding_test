{
 "cells": [
  {
   "cell_type": "markdown",
   "metadata": {},
   "source": [
    "## 14주차\n",
    "### 백준 11047: 동전0 (메모리 30840KB, 시간 68ms)"
   ]
  },
  {
   "cell_type": "code",
   "execution_count": null,
   "metadata": {},
   "outputs": [],
   "source": [
    "N, K = list(map(int, input().split()))\n",
    " \n",
    "coins = []\n",
    "for n in range(N):\n",
    "    coins.append(int(input()))\n",
    "\n",
    "count = 0\n",
    "for n in range(N-1, -1, -1):\n",
    "    count += K // coins[n]\n",
    "    K -= (K // coins[n]) * coins[n]\n",
    "    if K == 0:\n",
    "        break\n",
    "print(count)    "
   ]
  }
 ],
 "metadata": {
  "kernelspec": {
   "display_name": "Python 3",
   "language": "python",
   "name": "python3"
  },
  "language_info": {
   "codemirror_mode": {
    "name": "ipython",
    "version": 3
   },
   "file_extension": ".py",
   "mimetype": "text/x-python",
   "name": "python",
   "nbconvert_exporter": "python",
   "pygments_lexer": "ipython3",
   "version": "3.8.5"
  }
 },
 "nbformat": 4,
 "nbformat_minor": 4
}
