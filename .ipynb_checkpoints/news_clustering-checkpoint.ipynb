{
 "cells": [
  {
   "cell_type": "markdown",
   "metadata": {},
   "source": [
    "## 11주차\n",
    "### Level 2 : 2018 KAKAO BLIND RECRUITMENT > [1차] 뉴스 클러스터링(+13)"
   ]
  },
  {
   "cell_type": "code",
   "execution_count": null,
   "metadata": {},
   "outputs": [],
   "source": [
    "def solution(str1, str2):\n",
    "    \n",
    "    import re\n",
    "    str1 = str1.upper()\n",
    "    str2 = str2.upper()\n",
    "    \n",
    "    list1 = [str1[i:(i+2)] for i in range(len(str1) - 1) if re.compile('[a-zA-Z]{2}').match(str1[i:(i+2)])]\n",
    "    list2 = [str2[i:(i+2)] for i in range(len(str2) - 1) if re.compile('[a-zA-Z]{2}').match(str2[i:(i+2)])]\n",
    "    \n",
    "    dict1 = {i:list1.count(i) for i in set(list1)}\n",
    "    dict2 = {i:list2.count(i) for i in set(list2)}\n",
    "    \n",
    "    if len(list1) == 0 and len(list2) == 0:\n",
    "        return 65536\n",
    "    else:\n",
    "        intersection = set(list1) & set(list2)\n",
    "        numerator = sum([min(dict1[i], dict2[i]) for i in intersection])\n",
    "    \n",
    "        return int(numerator / (len(list1) + len(list2) - numerator) * 65536)"
   ]
  }
 ],
 "metadata": {
  "kernelspec": {
   "display_name": "Python 3",
   "language": "python",
   "name": "python3"
  },
  "language_info": {
   "codemirror_mode": {
    "name": "ipython",
    "version": 3
   },
   "file_extension": ".py",
   "mimetype": "text/x-python",
   "name": "python",
   "nbconvert_exporter": "python",
   "pygments_lexer": "ipython3",
   "version": "3.8.5"
  }
 },
 "nbformat": 4,
 "nbformat_minor": 4
}
