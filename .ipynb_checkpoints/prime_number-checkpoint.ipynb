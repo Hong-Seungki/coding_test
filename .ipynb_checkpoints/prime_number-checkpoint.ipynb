{
 "cells": [
  {
   "cell_type": "markdown",
   "metadata": {},
   "source": [
    "## 11주차\n",
    "### Level 1 : 소수 찾기 (+11)"
   ]
  },
  {
   "cell_type": "code",
   "execution_count": null,
   "metadata": {},
   "outputs": [],
   "source": [
    "def det(n):\n",
    "    M = int(n**0.5)\n",
    "    if M == 1:\n",
    "        return 1\n",
    "    else:\n",
    "        prime = 1\n",
    "        for i in range(2, M+1):\n",
    "            if n % i == 0:\n",
    "                prime = 0\n",
    "                break\n",
    "        return prime\n",
    "    \n",
    "def solution(n):\n",
    "    return sum([det(i) for i in range(2, n+1)])"
   ]
  }
 ],
 "metadata": {
  "kernelspec": {
   "display_name": "Python 3",
   "language": "python",
   "name": "python3"
  },
  "language_info": {
   "codemirror_mode": {
    "name": "ipython",
    "version": 3
   },
   "file_extension": ".py",
   "mimetype": "text/x-python",
   "name": "python",
   "nbconvert_exporter": "python",
   "pygments_lexer": "ipython3",
   "version": "3.8.5"
  }
 },
 "nbformat": 4,
 "nbformat_minor": 4
}
