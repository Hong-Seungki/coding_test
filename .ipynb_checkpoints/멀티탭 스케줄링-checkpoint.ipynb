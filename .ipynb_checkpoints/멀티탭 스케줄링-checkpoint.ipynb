{
 "cells": [
  {
   "cell_type": "code",
   "execution_count": null,
   "metadata": {},
   "outputs": [],
   "source": [
    "N, K = list(map(int, input().split()))\n",
    "order = list(map(int, input().split()))\n",
    "tab = []\n",
    "count = 0\n",
    "while len(order) > 0:\n",
    "    if len(tab) < N:\n",
    "        if order[0] not in tab:\n",
    "            tab.append(order[0])\n",
    "        order.pop(0)\n",
    "    else:\n",
    "        if order[0] not in tab:\n",
    "            ind = [order.index(tab[n]) for n in range(N) if tab[n] in order]\n",
    "            if len(ind) != N:\n",
    "                for n in range(N):\n",
    "                    if tab[n] not in order:\n",
    "                        tab[n] = order[0]\n",
    "                        break\n",
    "            else:\n",
    "                tab.remove(order[max(ind)])\n",
    "                tab.append(order[0])\n",
    "            count += 1\n",
    "        order.pop(0)\n",
    "print(count)"
   ]
  }
 ],
 "metadata": {
  "kernelspec": {
   "display_name": "Python 3",
   "language": "python",
   "name": "python3"
  },
  "language_info": {
   "codemirror_mode": {
    "name": "ipython",
    "version": 3
   },
   "file_extension": ".py",
   "mimetype": "text/x-python",
   "name": "python",
   "nbconvert_exporter": "python",
   "pygments_lexer": "ipython3",
   "version": "3.8.5"
  }
 },
 "nbformat": 4,
 "nbformat_minor": 4
}
