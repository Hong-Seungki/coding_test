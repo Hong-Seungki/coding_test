{
 "cells": [
  {
   "cell_type": "code",
   "execution_count": null,
   "metadata": {},
   "outputs": [],
   "source": [
    "def solution(s, n):\n",
    "    answer = list(s)\n",
    "    for i in range(len(answer)):\n",
    "        if answer[i] == ' ':\n",
    "            continue\n",
    "        if ord(answer[i]) <= 90 and ord(answer[i]) + n > 90:\n",
    "            answer[i] = chr(ord(answer[i]) + n - 26)\n",
    "        elif ord(answer[i]) >= 97 and ord(answer[i]) + n > 122:\n",
    "            answer[i] = chr(ord(answer[i]) + n - 26)\n",
    "        else:\n",
    "            answer[i] = chr(ord(answer[i]) + n)\n",
    "    return ''.join(answer)"
   ]
  }
 ],
 "metadata": {
  "kernelspec": {
   "display_name": "Python 3",
   "language": "python",
   "name": "python3"
  },
  "language_info": {
   "codemirror_mode": {
    "name": "ipython",
    "version": 3
   },
   "file_extension": ".py",
   "mimetype": "text/x-python",
   "name": "python",
   "nbconvert_exporter": "python",
   "pygments_lexer": "ipython3",
   "version": "3.8.5"
  }
 },
 "nbformat": 4,
 "nbformat_minor": 4
}
