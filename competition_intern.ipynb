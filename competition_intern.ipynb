{
 "cells": [
  {
   "cell_type": "markdown",
   "metadata": {},
   "source": [
    "## 14주차\n",
    "### 백준 2875: 대회 or 인턴 (메모리 30840KB, 시간 68ms)"
   ]
  },
  {
   "cell_type": "code",
   "execution_count": null,
   "metadata": {},
   "outputs": [],
   "source": [
    "N, M, K = list(map(int, input().split()))\n",
    "teams = min(N//2, M)\n",
    "K -= N + M - 3 * teams\n",
    "if K <= 0:\n",
    "    print(teams)\n",
    "else:\n",
    "    print(teams - max(K//3, (K+1)//3, (K+2)//3))"
   ]
  }
 ],
 "metadata": {
  "kernelspec": {
   "display_name": "Python 3",
   "language": "python",
   "name": "python3"
  },
  "language_info": {
   "codemirror_mode": {
    "name": "ipython",
    "version": 3
   },
   "file_extension": ".py",
   "mimetype": "text/x-python",
   "name": "python",
   "nbconvert_exporter": "python",
   "pygments_lexer": "ipython3",
   "version": "3.8.5"
  }
 },
 "nbformat": 4,
 "nbformat_minor": 4
}
