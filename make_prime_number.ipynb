{
 "cells": [
  {
   "cell_type": "markdown",
   "metadata": {},
   "source": [
    "## 14주차\n",
    "### Level 1 : 소수 만들기 (+4)"
   ]
  },
  {
   "cell_type": "code",
   "execution_count": null,
   "metadata": {},
   "outputs": [],
   "source": [
    "def solution(nums):\n",
    "    answer = 0\n",
    "\n",
    "    from itertools import combinations\n",
    "    for idx in combinations(range(len(nums)), r = 3):\n",
    "        num = nums[idx[0]-1] + nums[idx[1]-1] + nums[idx[2]-1]\n",
    "        for n in range(2, int(num**0.5)+1):\n",
    "            if num % n == 0:\n",
    "                break\n",
    "        if num % n != 0:\n",
    "            answer += 1\n",
    "\n",
    "    return answer"
   ]
  }
 ],
 "metadata": {
  "kernelspec": {
   "display_name": "Python 3",
   "language": "python",
   "name": "python3"
  },
  "language_info": {
   "codemirror_mode": {
    "name": "ipython",
    "version": 3
   },
   "file_extension": ".py",
   "mimetype": "text/x-python",
   "name": "python",
   "nbconvert_exporter": "python",
   "pygments_lexer": "ipython3",
   "version": "3.8.5"
  }
 },
 "nbformat": 4,
 "nbformat_minor": 4
}
