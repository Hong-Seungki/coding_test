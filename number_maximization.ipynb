{
 "cells": [
  {
   "cell_type": "markdown",
   "metadata": {},
   "source": [
    "## 11주차\n",
    "### Level 2 : 2020 카카오 인턴십 > 수식 최대화 (+9)"
   ]
  },
  {
   "cell_type": "code",
   "execution_count": null,
   "metadata": {},
   "outputs": [],
   "source": [
    "def solution(expression):\n",
    "    import re, itertools\n",
    "    num = list(map(int, re.split(\"\\D\", expression)))\n",
    "    cal = re.findall(\"\\W\", expression)\n",
    "    answer = []\n",
    "\n",
    "    for orders in list(itertools.permutations(set(cal))):\n",
    "        num_temp = num[:]\n",
    "        cal_temp = cal[:]\n",
    "        for sign in orders:\n",
    "            while sign in cal_temp:\n",
    "                ind = cal_temp.index(sign)\n",
    "                if sign == \"*\":\n",
    "                    num_temp[ind] = num_temp[ind] * num_temp[ind+1]\n",
    "                elif sign == \"+\":\n",
    "                    num_temp[ind] = num_temp[ind] + num_temp[ind+1]\n",
    "                else:\n",
    "                    num_temp[ind] = num_temp[ind] - num_temp[ind+1]\n",
    "                del cal_temp[ind]\n",
    "                del num_temp[ind+1]\n",
    "        answer.append(abs(num_temp[0]))\n",
    "    return max(answer)"
   ]
  }
 ],
 "metadata": {
  "kernelspec": {
   "display_name": "Python 3",
   "language": "python",
   "name": "python3"
  },
  "language_info": {
   "codemirror_mode": {
    "name": "ipython",
    "version": 3
   },
   "file_extension": ".py",
   "mimetype": "text/x-python",
   "name": "python",
   "nbconvert_exporter": "python",
   "pygments_lexer": "ipython3",
   "version": "3.8.5"
  }
 },
 "nbformat": 4,
 "nbformat_minor": 4
}
